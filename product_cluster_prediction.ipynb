{
 "cells": [
  {
   "cell_type": "markdown",
   "id": "6fd3bca6",
   "metadata": {
    "papermill": {
     "duration": 0.00482,
     "end_time": "2024-04-21T22:12:32.157329",
     "exception": false,
     "start_time": "2024-04-21T22:12:32.152509",
     "status": "completed"
    },
    "tags": []
   },
   "source": [
    "## <b>1 <span style='color:#4682B4'>|</span> Загрузка данных </b>"
   ]
  },
  {
   "cell_type": "code",
   "execution_count": 1,
   "id": "e9af9988",
   "metadata": {
    "execution": {
     "iopub.execute_input": "2024-04-21T22:12:32.167851Z",
     "iopub.status.busy": "2024-04-21T22:12:32.167161Z",
     "iopub.status.idle": "2024-04-21T22:12:35.214050Z",
     "shell.execute_reply": "2024-04-21T22:12:35.213209Z"
    },
    "papermill": {
     "duration": 3.054456,
     "end_time": "2024-04-21T22:12:35.216351",
     "exception": false,
     "start_time": "2024-04-21T22:12:32.161895",
     "status": "completed"
    },
    "tags": []
   },
   "outputs": [],
   "source": [
    "import pandas as pd\n",
    "import numpy as np\n",
    "from sklearn.model_selection import train_test_split\n",
    "from sklearn.metrics import roc_auc_score, accuracy_score\n",
    "from sklearn.impute import KNNImputer, SimpleImputer\n",
    "from sklearn.preprocessing import MinMaxScaler, RobustScaler\n",
    "from catboost import CatBoostClassifier\n",
    "import optuna"
   ]
  },
  {
   "cell_type": "code",
   "execution_count": 2,
   "id": "22f016c5",
   "metadata": {
    "execution": {
     "iopub.execute_input": "2024-04-21T22:12:35.226575Z",
     "iopub.status.busy": "2024-04-21T22:12:35.226196Z",
     "iopub.status.idle": "2024-04-21T22:12:38.565063Z",
     "shell.execute_reply": "2024-04-21T22:12:38.564276Z"
    },
    "papermill": {
     "duration": 3.346415,
     "end_time": "2024-04-21T22:12:38.567394",
     "exception": false,
     "start_time": "2024-04-21T22:12:35.220979",
     "status": "completed"
    },
    "tags": []
   },
   "outputs": [
    {
     "data": {
      "text/html": [
       "<div>\n",
       "<style scoped>\n",
       "    .dataframe tbody tr th:only-of-type {\n",
       "        vertical-align: middle;\n",
       "    }\n",
       "\n",
       "    .dataframe tbody tr th {\n",
       "        vertical-align: top;\n",
       "    }\n",
       "\n",
       "    .dataframe thead th {\n",
       "        text-align: right;\n",
       "    }\n",
       "</style>\n",
       "<table border=\"1\" class=\"dataframe\">\n",
       "  <thead>\n",
       "    <tr style=\"text-align: right;\">\n",
       "      <th></th>\n",
       "      <th>id</th>\n",
       "      <th>date</th>\n",
       "      <th>balance_amt_avg</th>\n",
       "      <th>balance_amt_max</th>\n",
       "      <th>balance_amt_min</th>\n",
       "      <th>balance_amt_day_avg</th>\n",
       "      <th>channel_code</th>\n",
       "      <th>city</th>\n",
       "      <th>city_type</th>\n",
       "      <th>index_city_code</th>\n",
       "      <th>...</th>\n",
       "      <th>cnt_cred_g_oper_3m</th>\n",
       "      <th>cnt_days_cred_g_oper_3m</th>\n",
       "      <th>sum_deb_h_oper_3m</th>\n",
       "      <th>cnt_deb_h_oper_3m</th>\n",
       "      <th>cnt_days_deb_h_oper_3m</th>\n",
       "      <th>sum_cred_h_oper_3m</th>\n",
       "      <th>cnt_cred_h_oper_3m</th>\n",
       "      <th>cnt_days_cred_h_oper_3m</th>\n",
       "      <th>start_cluster</th>\n",
       "      <th>end_cluster</th>\n",
       "    </tr>\n",
       "  </thead>\n",
       "  <tbody>\n",
       "    <tr>\n",
       "      <th>0</th>\n",
       "      <td>0</td>\n",
       "      <td>month_1</td>\n",
       "      <td>0.744845</td>\n",
       "      <td>0.705492</td>\n",
       "      <td>1.287207</td>\n",
       "      <td>0.748101</td>\n",
       "      <td>channel_code_5</td>\n",
       "      <td>city_23</td>\n",
       "      <td>city_type_0</td>\n",
       "      <td>index_city_code_39</td>\n",
       "      <td>...</td>\n",
       "      <td>0.951166</td>\n",
       "      <td>0.568681</td>\n",
       "      <td>0.897565</td>\n",
       "      <td>0.553624</td>\n",
       "      <td>0.774354</td>\n",
       "      <td>0.936506</td>\n",
       "      <td>0.295984</td>\n",
       "      <td>0.967947</td>\n",
       "      <td>{α, γ}</td>\n",
       "      <td>{other}</td>\n",
       "    </tr>\n",
       "    <tr>\n",
       "      <th>1</th>\n",
       "      <td>0</td>\n",
       "      <td>month_2</td>\n",
       "      <td>1.049605</td>\n",
       "      <td>0.831916</td>\n",
       "      <td>2.458609</td>\n",
       "      <td>1.053805</td>\n",
       "      <td>channel_code_5</td>\n",
       "      <td>city_23</td>\n",
       "      <td>city_type_0</td>\n",
       "      <td>index_city_code_39</td>\n",
       "      <td>...</td>\n",
       "      <td>0.948812</td>\n",
       "      <td>0.499716</td>\n",
       "      <td>0.785029</td>\n",
       "      <td>0.551904</td>\n",
       "      <td>0.696576</td>\n",
       "      <td>0.990157</td>\n",
       "      <td>0.298873</td>\n",
       "      <td>0.945969</td>\n",
       "      <td>{α, γ}</td>\n",
       "      <td>{other}</td>\n",
       "    </tr>\n",
       "    <tr>\n",
       "      <th>2</th>\n",
       "      <td>0</td>\n",
       "      <td>month_3</td>\n",
       "      <td>0.692653</td>\n",
       "      <td>0.740253</td>\n",
       "      <td>0.430042</td>\n",
       "      <td>0.695747</td>\n",
       "      <td>channel_code_5</td>\n",
       "      <td>city_23</td>\n",
       "      <td>city_type_0</td>\n",
       "      <td>index_city_code_39</td>\n",
       "      <td>...</td>\n",
       "      <td>0.946458</td>\n",
       "      <td>0.442244</td>\n",
       "      <td>0.877050</td>\n",
       "      <td>0.551044</td>\n",
       "      <td>0.663243</td>\n",
       "      <td>0.810065</td>\n",
       "      <td>0.294829</td>\n",
       "      <td>0.956958</td>\n",
       "      <td>{α, γ}</td>\n",
       "      <td>{other}</td>\n",
       "    </tr>\n",
       "    <tr>\n",
       "      <th>3</th>\n",
       "      <td>1</td>\n",
       "      <td>month_1</td>\n",
       "      <td>-0.081586</td>\n",
       "      <td>-0.091860</td>\n",
       "      <td>-0.114040</td>\n",
       "      <td>-0.080890</td>\n",
       "      <td>channel_code_2</td>\n",
       "      <td>city_14</td>\n",
       "      <td>city_type_0</td>\n",
       "      <td>None</td>\n",
       "      <td>...</td>\n",
       "      <td>0.945281</td>\n",
       "      <td>0.407762</td>\n",
       "      <td>0.369318</td>\n",
       "      <td>0.567093</td>\n",
       "      <td>0.785465</td>\n",
       "      <td>-0.184002</td>\n",
       "      <td>0.253523</td>\n",
       "      <td>0.462452</td>\n",
       "      <td>{other}</td>\n",
       "      <td>{other}</td>\n",
       "    </tr>\n",
       "    <tr>\n",
       "      <th>4</th>\n",
       "      <td>1</td>\n",
       "      <td>month_2</td>\n",
       "      <td>-0.094962</td>\n",
       "      <td>-0.100504</td>\n",
       "      <td>-0.119302</td>\n",
       "      <td>-0.094307</td>\n",
       "      <td>channel_code_2</td>\n",
       "      <td>city_14</td>\n",
       "      <td>city_type_0</td>\n",
       "      <td>None</td>\n",
       "      <td>...</td>\n",
       "      <td>0.946066</td>\n",
       "      <td>0.430750</td>\n",
       "      <td>0.067275</td>\n",
       "      <td>0.559928</td>\n",
       "      <td>0.696576</td>\n",
       "      <td>-0.183854</td>\n",
       "      <td>0.255545</td>\n",
       "      <td>0.495419</td>\n",
       "      <td>{other}</td>\n",
       "      <td>{other}</td>\n",
       "    </tr>\n",
       "  </tbody>\n",
       "</table>\n",
       "<p>5 rows × 93 columns</p>\n",
       "</div>"
      ],
      "text/plain": [
       "   id     date  balance_amt_avg  balance_amt_max  balance_amt_min  \\\n",
       "0   0  month_1         0.744845         0.705492         1.287207   \n",
       "1   0  month_2         1.049605         0.831916         2.458609   \n",
       "2   0  month_3         0.692653         0.740253         0.430042   \n",
       "3   1  month_1        -0.081586        -0.091860        -0.114040   \n",
       "4   1  month_2        -0.094962        -0.100504        -0.119302   \n",
       "\n",
       "   balance_amt_day_avg    channel_code     city    city_type  \\\n",
       "0             0.748101  channel_code_5  city_23  city_type_0   \n",
       "1             1.053805  channel_code_5  city_23  city_type_0   \n",
       "2             0.695747  channel_code_5  city_23  city_type_0   \n",
       "3            -0.080890  channel_code_2  city_14  city_type_0   \n",
       "4            -0.094307  channel_code_2  city_14  city_type_0   \n",
       "\n",
       "      index_city_code  ...  cnt_cred_g_oper_3m  cnt_days_cred_g_oper_3m  \\\n",
       "0  index_city_code_39  ...            0.951166                 0.568681   \n",
       "1  index_city_code_39  ...            0.948812                 0.499716   \n",
       "2  index_city_code_39  ...            0.946458                 0.442244   \n",
       "3                None  ...            0.945281                 0.407762   \n",
       "4                None  ...            0.946066                 0.430750   \n",
       "\n",
       "  sum_deb_h_oper_3m cnt_deb_h_oper_3m  cnt_days_deb_h_oper_3m  \\\n",
       "0          0.897565          0.553624                0.774354   \n",
       "1          0.785029          0.551904                0.696576   \n",
       "2          0.877050          0.551044                0.663243   \n",
       "3          0.369318          0.567093                0.785465   \n",
       "4          0.067275          0.559928                0.696576   \n",
       "\n",
       "   sum_cred_h_oper_3m  cnt_cred_h_oper_3m  cnt_days_cred_h_oper_3m  \\\n",
       "0            0.936506            0.295984                 0.967947   \n",
       "1            0.990157            0.298873                 0.945969   \n",
       "2            0.810065            0.294829                 0.956958   \n",
       "3           -0.184002            0.253523                 0.462452   \n",
       "4           -0.183854            0.255545                 0.495419   \n",
       "\n",
       "  start_cluster end_cluster  \n",
       "0        {α, γ}     {other}  \n",
       "1        {α, γ}     {other}  \n",
       "2        {α, γ}     {other}  \n",
       "3       {other}     {other}  \n",
       "4       {other}     {other}  \n",
       "\n",
       "[5 rows x 93 columns]"
      ]
     },
     "execution_count": 2,
     "metadata": {},
     "output_type": "execute_result"
    }
   ],
   "source": [
    "train_df = pd.read_parquet(\"/kaggle/input/alfa-x-finu-hack/train_data.pqt\")\n",
    "test_df = pd.read_parquet(\"/kaggle/input/alfa-x-finu-hack/test_data.pqt\")\n",
    "train_df.head()"
   ]
  },
  {
   "cell_type": "markdown",
   "id": "e8d003de",
   "metadata": {
    "papermill": {
     "duration": 0.004675,
     "end_time": "2024-04-21T22:12:38.577319",
     "exception": false,
     "start_time": "2024-04-21T22:12:38.572644",
     "status": "completed"
    },
    "tags": []
   },
   "source": [
    "## <b>2 <span style='color:#4682B4'>|</span> Предобработка данных </b>"
   ]
  },
  {
   "cell_type": "code",
   "execution_count": 3,
   "id": "0faa4618",
   "metadata": {
    "execution": {
     "iopub.execute_input": "2024-04-21T22:12:38.588450Z",
     "iopub.status.busy": "2024-04-21T22:12:38.588156Z",
     "iopub.status.idle": "2024-04-21T22:12:45.953586Z",
     "shell.execute_reply": "2024-04-21T22:12:45.952322Z"
    },
    "papermill": {
     "duration": 7.374678,
     "end_time": "2024-04-21T22:12:45.956873",
     "exception": false,
     "start_time": "2024-04-21T22:12:38.582195",
     "status": "completed"
    },
    "tags": []
   },
   "outputs": [],
   "source": [
    "# Список категориальных признаков\n",
    "cat_features = [\n",
    "    \"channel_code\", \"city\", \"city_type\",\n",
    "    \"okved\", \"segment\", \"start_cluster\",\n",
    "    \"index_city_code\", \"ogrn_month\", \"ogrn_year\"\n",
    "]\n",
    "\n",
    "# Преобразование категориальных признаков в тип 'category'\n",
    "for feature in cat_features:\n",
    "    train_df[feature] = train_df[feature].astype(\"category\")\n",
    "    test_df[feature] = test_df[feature].astype(\"category\")\n",
    "\n",
    "# Подготовка данных для обучения модели\n",
    "X_train = train_df.drop([\"id\", \"date\", \"end_cluster\"], axis=1)\n",
    "y_train = train_df[\"end_cluster\"]\n",
    "\n",
    "# Разделение данных на обучающий и валидационный наборы\n",
    "x_train, x_val, y_train, y_val = train_test_split(X_train, y_train, test_size=0.2, random_state=42)\n",
    "\n",
    "# Определение числовых столбцов после заполнения пропущенных значений\n",
    "numerical_cols = x_train.select_dtypes(include='number').columns\n",
    "    \n",
    "# Используем SimpleImputer для заполнения пропущенных значений в числовых признаках средним\n",
    "mean_imputer = SimpleImputer(strategy='mean') \n",
    "x_train[numerical_cols] = mean_imputer.fit_transform(x_train[numerical_cols])\n",
    "x_val[numerical_cols] = mean_imputer.transform(x_val[numerical_cols])\n",
    "test_df[numerical_cols] = mean_imputer.transform(test_df[numerical_cols])\n",
    "\n",
    "# Используем SimpleImputer для заполнения пропущенных значений в категориальных признаках\n",
    "simple_imputer = SimpleImputer(strategy='most_frequent') \n",
    "x_train[cat_features] = simple_imputer.fit_transform(x_train[cat_features])\n",
    "x_val[cat_features] = simple_imputer.transform(x_val[cat_features])\n",
    "test_df[cat_features] = simple_imputer.transform(test_df[cat_features])\n",
    "\n",
    "# Инициализация RobustScaler\n",
    "scaler = RobustScaler()\n",
    "\n",
    "# Применение RobustScaler к числовым переменным\n",
    "x_train[numerical_cols] = scaler.fit_transform(x_train[numerical_cols])\n",
    "x_val[numerical_cols] = scaler.transform(x_val[numerical_cols])\n",
    "test_df[numerical_cols] = scaler.transform(test_df[numerical_cols])"
   ]
  },
  {
   "cell_type": "code",
   "execution_count": 4,
   "id": "89510d8d",
   "metadata": {
    "execution": {
     "iopub.execute_input": "2024-04-21T22:12:45.971766Z",
     "iopub.status.busy": "2024-04-21T22:12:45.971451Z",
     "iopub.status.idle": "2024-04-21T22:12:46.327634Z",
     "shell.execute_reply": "2024-04-21T22:12:46.326897Z"
    },
    "papermill": {
     "duration": 0.367467,
     "end_time": "2024-04-21T22:12:46.329818",
     "exception": false,
     "start_time": "2024-04-21T22:12:45.962351",
     "status": "completed"
    },
    "tags": []
   },
   "outputs": [],
   "source": [
    "def weighted_roc_auc(y_true, y_pred, labels, weights_dict):\n",
    "    unnorm_weights = np.array([weights_dict[label] for label in labels])\n",
    "    weights = unnorm_weights / unnorm_weights.sum()\n",
    "    classes_roc_auc = roc_auc_score(y_true, y_pred, labels=labels,\n",
    "                                    multi_class=\"ovr\", average=None)\n",
    "    return sum(weights * classes_roc_auc)\n",
    "\n",
    "cluster_weights = pd.read_excel(\"/kaggle/input/alfa-x-finu-hack/cluster_weights.xlsx\").set_index(\"cluster\")\n",
    "weights_dict = cluster_weights[\"unnorm_weight\"].to_dict()"
   ]
  },
  {
   "cell_type": "markdown",
   "id": "a1701002",
   "metadata": {
    "papermill": {
     "duration": 0.004538,
     "end_time": "2024-04-21T22:12:46.340080",
     "exception": false,
     "start_time": "2024-04-21T22:12:46.335542",
     "status": "completed"
    },
    "tags": []
   },
   "source": [
    "## <b>3 <span style='color:#4682B4'>|</span> Подбор гиперпараметров при помощи Optuna </b>"
   ]
  },
  {
   "cell_type": "code",
   "execution_count": 5,
   "id": "8446c78d",
   "metadata": {
    "execution": {
     "iopub.execute_input": "2024-04-21T22:12:46.350837Z",
     "iopub.status.busy": "2024-04-21T22:12:46.350273Z",
     "iopub.status.idle": "2024-04-22T04:10:19.784684Z",
     "shell.execute_reply": "2024-04-22T04:10:19.783623Z"
    },
    "papermill": {
     "duration": 21453.442234,
     "end_time": "2024-04-22T04:10:19.786880",
     "exception": false,
     "start_time": "2024-04-21T22:12:46.344646",
     "status": "completed"
    },
    "tags": []
   },
   "outputs": [
    {
     "name": "stderr",
     "output_type": "stream",
     "text": [
      "[I 2024-04-21 22:12:46,355] A new study created in memory with name: no-name-685c0ce5-1717-47ba-a65d-1aad31b08bbd\n"
     ]
    },
    {
     "name": "stdout",
     "output_type": "stream",
     "text": [
      "0:\tlearn: 1.5229880\ttest: 1.5256852\tbest: 1.5256852 (0)\ttotal: 320ms\tremaining: 26m 40s\n",
      "bestTest = 0.643606901\n",
      "bestIteration = 4225\n",
      "Shrink model to first 4226 iterations.\n"
     ]
    },
    {
     "name": "stderr",
     "output_type": "stream",
     "text": [
      "[I 2024-04-21 22:20:18,394] Trial 0 finished with value: 0.9589545086001503 and parameters: {'depth': 8, 'learning_rate': 0.19012957765207258, 'l2_leaf_reg': 0.3009774766532844, 'bagging_temperature': 0.07862959138237768, 'border_count': 160, 'random_strength': 61.88799479804526, 'min_data_in_leaf': 1}. Best is trial 0 with value: 0.9589545086001503.\n"
     ]
    },
    {
     "name": "stdout",
     "output_type": "stream",
     "text": [
      "0:\tlearn: 1.2010112\ttest: 1.2069814\tbest: 1.2069814 (0)\ttotal: 74.7ms\tremaining: 6m 13s\n",
      "bestTest = 0.8981358073\n",
      "bestIteration = 16\n",
      "Shrink model to first 17 iterations.\n"
     ]
    },
    {
     "name": "stderr",
     "output_type": "stream",
     "text": [
      "[I 2024-04-21 22:20:28,751] Trial 1 finished with value: 0.8744578808129274 and parameters: {'depth': 6, 'learning_rate': 0.40519344070742164, 'l2_leaf_reg': 0.08990483952245525, 'bagging_temperature': 0.3583561220076431, 'border_count': 89, 'random_strength': 55.92917647100746, 'min_data_in_leaf': 15}. Best is trial 0 with value: 0.9589545086001503.\n"
     ]
    },
    {
     "name": "stdout",
     "output_type": "stream",
     "text": [
      "0:\tlearn: 1.6490647\ttest: 1.6514234\tbest: 1.6514234 (0)\ttotal: 68.1ms\tremaining: 5m 40s\n",
      "bestTest = 0.7759804688\n",
      "bestIteration = 4071\n",
      "Shrink model to first 4072 iterations.\n"
     ]
    },
    {
     "name": "stderr",
     "output_type": "stream",
     "text": [
      "[I 2024-04-21 22:23:17,284] Trial 2 finished with value: 0.9372249316570921 and parameters: {'depth': 4, 'learning_rate': 0.17577528160569228, 'l2_leaf_reg': 0.010107571534041985, 'bagging_temperature': 0.9921945930488872, 'border_count': 174, 'random_strength': 39.963842695100546, 'min_data_in_leaf': 6}. Best is trial 0 with value: 0.9589545086001503.\n"
     ]
    },
    {
     "name": "stdout",
     "output_type": "stream",
     "text": [
      "0:\tlearn: 1.2041809\ttest: 1.2097065\tbest: 1.2097065 (0)\ttotal: 318ms\tremaining: 26m 31s\n",
      "bestTest = 0.8798060547\n",
      "bestIteration = 49\n",
      "Shrink model to first 50 iterations.\n"
     ]
    },
    {
     "name": "stderr",
     "output_type": "stream",
     "text": [
      "[I 2024-04-21 22:23:46,645] Trial 3 finished with value: 0.8856474633309064 and parameters: {'depth': 10, 'learning_rate': 0.2914438935904745, 'l2_leaf_reg': 0.004776755698174928, 'bagging_temperature': 0.9013789120144303, 'border_count': 79, 'random_strength': 82.59577855306857, 'min_data_in_leaf': 16}. Best is trial 0 with value: 0.9589545086001503.\n"
     ]
    },
    {
     "name": "stdout",
     "output_type": "stream",
     "text": [
      "0:\tlearn: 1.2264307\ttest: 1.2306445\tbest: 1.2306445 (0)\ttotal: 75.8ms\tremaining: 6m 18s\n",
      "4999:\tlearn: 0.4649438\ttest: 0.7444234\tbest: 0.7444178 (4998)\ttotal: 3m 7s\tremaining: 0us\n",
      "bestTest = 0.7444177734\n",
      "bestIteration = 4998\n",
      "Shrink model to first 4999 iterations.\n"
     ]
    },
    {
     "name": "stderr",
     "output_type": "stream",
     "text": [
      "[I 2024-04-21 22:27:01,080] Trial 4 finished with value: 0.9488308080727161 and parameters: {'depth': 5, 'learning_rate': 0.32858215379609046, 'l2_leaf_reg': 1.3496543574757078, 'bagging_temperature': 0.3018160398319255, 'border_count': 52, 'random_strength': 20.71129072886009, 'min_data_in_leaf': 12}. Best is trial 0 with value: 0.9589545086001503.\n"
     ]
    },
    {
     "name": "stdout",
     "output_type": "stream",
     "text": [
      "0:\tlearn: 1.7224059\ttest: 1.7246000\tbest: 1.7246000 (0)\ttotal: 127ms\tremaining: 10m 34s\n",
      "bestTest = 0.6385609375\n",
      "bestIteration = 4159\n",
      "Shrink model to first 4160 iterations.\n"
     ]
    },
    {
     "name": "stderr",
     "output_type": "stream",
     "text": [
      "[I 2024-04-21 22:32:53,909] Trial 5 finished with value: 0.9597533547209722 and parameters: {'depth': 8, 'learning_rate': 0.1514557311605127, 'l2_leaf_reg': 0.1189871489100411, 'bagging_temperature': 0.3384476692865779, 'border_count': 33, 'random_strength': 32.520563232929604, 'min_data_in_leaf': 7}. Best is trial 5 with value: 0.9597533547209722.\n"
     ]
    },
    {
     "name": "stdout",
     "output_type": "stream",
     "text": [
      "0:\tlearn: 2.4888047\ttest: 2.4892469\tbest: 2.4892469 (0)\ttotal: 76.7ms\tremaining: 6m 23s\n",
      "4999:\tlearn: 0.6879492\ttest: 0.7745021\tbest: 0.7745021 (4999)\ttotal: 3m 46s\tremaining: 0us\n",
      "bestTest = 0.7745020833\n",
      "bestIteration = 4999\n"
     ]
    },
    {
     "name": "stderr",
     "output_type": "stream",
     "text": [
      "[I 2024-04-21 22:36:47,908] Trial 6 finished with value: 0.9399209273329573 and parameters: {'depth': 5, 'learning_rate': 0.043498687619744035, 'l2_leaf_reg': 0.002099598502562045, 'bagging_temperature': 0.44246184255011023, 'border_count': 213, 'random_strength': 21.55719973709055, 'min_data_in_leaf': 13}. Best is trial 5 with value: 0.9597533547209722.\n"
     ]
    },
    {
     "name": "stdout",
     "output_type": "stream",
     "text": [
      "0:\tlearn: 1.2356604\ttest: 1.2441161\tbest: 1.2441161 (0)\ttotal: 333ms\tremaining: 27m 45s\n",
      "bestTest = 1.244116146\n",
      "bestIteration = 0\n",
      "Shrink model to first 1 iterations.\n"
     ]
    },
    {
     "name": "stderr",
     "output_type": "stream",
     "text": [
      "[I 2024-04-21 22:37:20,235] Trial 7 finished with value: 0.7514508460236511 and parameters: {'depth': 10, 'learning_rate': 0.4610232938609242, 'l2_leaf_reg': 0.06091777929282363, 'bagging_temperature': 0.3040085665951042, 'border_count': 233, 'random_strength': 65.1330659080642, 'min_data_in_leaf': 17}. Best is trial 5 with value: 0.9597533547209722.\n"
     ]
    },
    {
     "name": "stdout",
     "output_type": "stream",
     "text": [
      "0:\tlearn: 1.1862717\ttest: 1.1911260\tbest: 1.1911260 (0)\ttotal: 167ms\tremaining: 13m 57s\n",
      "4999:\tlearn: 0.1727938\ttest: 0.6268732\tbest: 0.6266387 (4956)\ttotal: 8m 57s\tremaining: 0us\n",
      "bestTest = 0.626638737\n",
      "bestIteration = 4956\n",
      "Shrink model to first 4957 iterations.\n"
     ]
    },
    {
     "name": "stderr",
     "output_type": "stream",
     "text": [
      "[I 2024-04-21 22:46:27,534] Trial 8 finished with value: 0.9610071116607684 and parameters: {'depth': 8, 'learning_rate': 0.3378743083379042, 'l2_leaf_reg': 4.7758223043970265, 'bagging_temperature': 0.3553014932370997, 'border_count': 221, 'random_strength': 4.34468099503702, 'min_data_in_leaf': 4}. Best is trial 8 with value: 0.9610071116607684.\n"
     ]
    },
    {
     "name": "stdout",
     "output_type": "stream",
     "text": [
      "0:\tlearn: 1.1710042\ttest: 1.1764589\tbest: 1.1764589 (0)\ttotal: 211ms\tremaining: 17m 33s\n",
      "bestTest = 0.8947449219\n",
      "bestIteration = 27\n",
      "Shrink model to first 28 iterations.\n"
     ]
    },
    {
     "name": "stderr",
     "output_type": "stream",
     "text": [
      "[I 2024-04-21 22:46:49,914] Trial 9 finished with value: 0.8968342911616267 and parameters: {'depth': 9, 'learning_rate': 0.34396757877739276, 'l2_leaf_reg': 0.03692064580462473, 'bagging_temperature': 0.26424565423194735, 'border_count': 116, 'random_strength': 18.752421092616633, 'min_data_in_leaf': 19}. Best is trial 8 with value: 0.9610071116607684.\n"
     ]
    },
    {
     "name": "stdout",
     "output_type": "stream",
     "text": [
      "0:\tlearn: 1.2361003\ttest: 1.2433182\tbest: 1.2433182 (0)\ttotal: 120ms\tremaining: 10m\n",
      "bestTest = 1.243318229\n",
      "bestIteration = 0\n",
      "Shrink model to first 1 iterations.\n"
     ]
    },
    {
     "name": "stderr",
     "output_type": "stream",
     "text": [
      "[I 2024-04-21 22:47:02,700] Trial 10 finished with value: 0.7392548535960164 and parameters: {'depth': 7, 'learning_rate': 0.45508026876398056, 'l2_leaf_reg': 8.99142708393269, 'bagging_temperature': 0.6764139488298095, 'border_count': 254, 'random_strength': 2.6030594547121453, 'min_data_in_leaf': 2}. Best is trial 8 with value: 0.9610071116607684.\n"
     ]
    },
    {
     "name": "stdout",
     "output_type": "stream",
     "text": [
      "0:\tlearn: 2.1631305\ttest: 2.1642854\tbest: 2.1642854 (0)\ttotal: 161ms\tremaining: 13m 23s\n",
      "4999:\tlearn: 0.4366574\ttest: 0.6705720\tbest: 0.6705720 (4999)\ttotal: 8m 18s\tremaining: 0us\n",
      "bestTest = 0.6705720052\n",
      "bestIteration = 4999\n"
     ]
    },
    {
     "name": "stderr",
     "output_type": "stream",
     "text": [
      "[I 2024-04-21 22:55:30,901] Trial 11 finished with value: 0.9583026218796311 and parameters: {'depth': 8, 'learning_rate': 0.08551636633541718, 'l2_leaf_reg': 7.910796254398781, 'bagging_temperature': 0.6745870425624277, 'border_count': 192, 'random_strength': 0.9523476436716578, 'min_data_in_leaf': 7}. Best is trial 8 with value: 0.9610071116607684.\n"
     ]
    },
    {
     "name": "stdout",
     "output_type": "stream",
     "text": [
      "0:\tlearn: 1.4103065\ttest: 1.4134783\tbest: 1.4134783 (0)\ttotal: 126ms\tremaining: 10m 28s\n",
      "bestTest = 0.6351647786\n",
      "bestIteration = 4178\n",
      "Shrink model to first 4179 iterations.\n"
     ]
    },
    {
     "name": "stderr",
     "output_type": "stream",
     "text": [
      "[I 2024-04-21 23:01:16,750] Trial 12 finished with value: 0.9607720599732871 and parameters: {'depth': 8, 'learning_rate': 0.2178480339963667, 'l2_leaf_reg': 0.6401534235227949, 'bagging_temperature': 0.05959068201550266, 'border_count': 34, 'random_strength': 35.2394598548177, 'min_data_in_leaf': 7}. Best is trial 8 with value: 0.9610071116607684.\n"
     ]
    },
    {
     "name": "stdout",
     "output_type": "stream",
     "text": [
      "0:\tlearn: 1.3459340\ttest: 1.3492138\tbest: 1.3492138 (0)\ttotal: 118ms\tremaining: 9m 49s\n",
      "4999:\tlearn: 0.2763339\ttest: 0.6551999\tbest: 0.6551999 (4999)\ttotal: 5m 55s\tremaining: 0us\n",
      "bestTest = 0.6551998698\n",
      "bestIteration = 4999\n"
     ]
    },
    {
     "name": "stderr",
     "output_type": "stream",
     "text": [
      "[I 2024-04-21 23:07:21,088] Trial 13 finished with value: 0.9576006534597816 and parameters: {'depth': 7, 'learning_rate': 0.2403546905663004, 'l2_leaf_reg': 1.2463898949127246, 'bagging_temperature': 0.025451140096602716, 'border_count': 133, 'random_strength': 93.64968891115447, 'min_data_in_leaf': 4}. Best is trial 8 with value: 0.9610071116607684.\n"
     ]
    },
    {
     "name": "stdout",
     "output_type": "stream",
     "text": [
      "0:\tlearn: 1.3204945\ttest: 1.3239951\tbest: 1.3239951 (0)\ttotal: 209ms\tremaining: 17m 26s\n",
      "bestTest = 0.6125214193\n",
      "bestIteration = 3578\n",
      "Shrink model to first 3579 iterations.\n"
     ]
    },
    {
     "name": "stderr",
     "output_type": "stream",
     "text": [
      "[I 2024-04-21 23:15:21,982] Trial 14 finished with value: 0.9630019754600523 and parameters: {'depth': 9, 'learning_rate': 0.24317497601509644, 'l2_leaf_reg': 1.7949146060543817, 'bagging_temperature': 0.1252812756393336, 'border_count': 111, 'random_strength': 42.01528213631604, 'min_data_in_leaf': 9}. Best is trial 14 with value: 0.9630019754600523.\n"
     ]
    },
    {
     "name": "stdout",
     "output_type": "stream",
     "text": [
      "0:\tlearn: 1.1741909\ttest: 1.1796146\tbest: 1.1796146 (0)\ttotal: 208ms\tremaining: 17m 20s\n",
      "bestTest = 0.6440710286\n",
      "bestIteration = 2416\n",
      "Shrink model to first 2417 iterations.\n"
     ]
    },
    {
     "name": "stderr",
     "output_type": "stream",
     "text": [
      "[I 2024-04-21 23:20:54,415] Trial 15 finished with value: 0.9592577877930176 and parameters: {'depth': 9, 'learning_rate': 0.37416118520556485, 'l2_leaf_reg': 2.8648570092899512, 'bagging_temperature': 0.21255889070451978, 'border_count': 118, 'random_strength': 74.7080235112025, 'min_data_in_leaf': 10}. Best is trial 14 with value: 0.9630019754600523.\n"
     ]
    },
    {
     "name": "stdout",
     "output_type": "stream",
     "text": [
      "0:\tlearn: 1.2025818\ttest: 1.2072891\tbest: 1.2072891 (0)\ttotal: 236ms\tremaining: 19m 38s\n",
      "bestTest = 0.6115973958\n",
      "bestIteration = 2867\n",
      "Shrink model to first 2868 iterations.\n"
     ]
    },
    {
     "name": "stderr",
     "output_type": "stream",
     "text": [
      "[I 2024-04-21 23:29:06,330] Trial 16 finished with value: 0.962126032208716 and parameters: {'depth': 9, 'learning_rate': 0.306591971400504, 'l2_leaf_reg': 3.362999700456141, 'bagging_temperature': 0.5717321680904301, 'border_count': 196, 'random_strength': 45.04907867667126, 'min_data_in_leaf': 9}. Best is trial 14 with value: 0.9630019754600523.\n"
     ]
    },
    {
     "name": "stdout",
     "output_type": "stream",
     "text": [
      "0:\tlearn: 1.2569980\ttest: 1.2616751\tbest: 1.2616751 (0)\ttotal: 244ms\tremaining: 20m 18s\n",
      "bestTest = 0.6378572917\n",
      "bestIteration = 2229\n",
      "Shrink model to first 2230 iterations.\n"
     ]
    },
    {
     "name": "stderr",
     "output_type": "stream",
     "text": [
      "[I 2024-04-21 23:35:07,526] Trial 17 finished with value: 0.9602776567967327 and parameters: {'depth': 9, 'learning_rate': 0.2677936864674162, 'l2_leaf_reg': 0.31880556913473274, 'bagging_temperature': 0.6033918513759353, 'border_count': 157, 'random_strength': 46.80343881633115, 'min_data_in_leaf': 10}. Best is trial 14 with value: 0.9630019754600523.\n"
     ]
    },
    {
     "name": "stdout",
     "output_type": "stream",
     "text": [
      "0:\tlearn: 1.8875062\ttest: 1.8892826\tbest: 1.8892826 (0)\ttotal: 341ms\tremaining: 28m 24s\n",
      "bestTest = 0.5771657552\n",
      "bestIteration = 4814\n",
      "Shrink model to first 4815 iterations.\n"
     ]
    },
    {
     "name": "stderr",
     "output_type": "stream",
     "text": [
      "[I 2024-04-21 23:55:15,213] Trial 18 finished with value: 0.9658258602697232 and parameters: {'depth': 10, 'learning_rate': 0.12334169037050063, 'l2_leaf_reg': 2.384840368076266, 'bagging_temperature': 0.5176746587054086, 'border_count': 190, 'random_strength': 47.98410024336251, 'min_data_in_leaf': 10}. Best is trial 18 with value: 0.9658258602697232.\n"
     ]
    },
    {
     "name": "stdout",
     "output_type": "stream",
     "text": [
      "0:\tlearn: 2.0094674\ttest: 2.0111355\tbest: 2.0111355 (0)\ttotal: 287ms\tremaining: 23m 56s\n",
      "bestTest = 0.5763470703\n",
      "bestIteration = 4184\n",
      "Shrink model to first 4185 iterations.\n"
     ]
    },
    {
     "name": "stderr",
     "output_type": "stream",
     "text": [
      "[I 2024-04-22 00:10:20,505] Trial 19 finished with value: 0.9651179129098844 and parameters: {'depth': 10, 'learning_rate': 0.10491776466873673, 'l2_leaf_reg': 1.5382148603664072, 'bagging_temperature': 0.773447156850416, 'border_count': 89, 'random_strength': 72.24274155468883, 'min_data_in_leaf': 13}. Best is trial 18 with value: 0.9658258602697232.\n"
     ]
    },
    {
     "name": "stdout",
     "output_type": "stream",
     "text": [
      "0:\tlearn: 1.9181969\ttest: 1.9202042\tbest: 1.9202042 (0)\ttotal: 305ms\tremaining: 25m 23s\n",
      "bestTest = 0.5895061198\n",
      "bestIteration = 3413\n",
      "Shrink model to first 3414 iterations.\n"
     ]
    },
    {
     "name": "stderr",
     "output_type": "stream",
     "text": [
      "[I 2024-04-22 00:22:48,222] Trial 20 finished with value: 0.9640570869533495 and parameters: {'depth': 10, 'learning_rate': 0.11780314464711608, 'l2_leaf_reg': 0.509671589714356, 'bagging_temperature': 0.7841840352577605, 'border_count': 80, 'random_strength': 74.03332306107262, 'min_data_in_leaf': 14}. Best is trial 18 with value: 0.9658258602697232.\n"
     ]
    },
    {
     "name": "stdout",
     "output_type": "stream",
     "text": [
      "0:\tlearn: 1.9779092\ttest: 1.9797827\tbest: 1.9797827 (0)\ttotal: 296ms\tremaining: 24m 39s\n",
      "bestTest = 0.5913780599\n",
      "bestIteration = 3074\n",
      "Shrink model to first 3075 iterations.\n"
     ]
    },
    {
     "name": "stderr",
     "output_type": "stream",
     "text": [
      "[I 2024-04-22 00:34:00,595] Trial 21 finished with value: 0.9637118399960483 and parameters: {'depth': 10, 'learning_rate': 0.10895976345347438, 'l2_leaf_reg': 0.40388267198014594, 'bagging_temperature': 0.8310122302020916, 'border_count': 78, 'random_strength': 78.7447242162462, 'min_data_in_leaf': 13}. Best is trial 18 with value: 0.9658258602697232.\n"
     ]
    },
    {
     "name": "stdout",
     "output_type": "stream",
     "text": [
      "0:\tlearn: 2.4742062\ttest: 2.4749297\tbest: 2.4749297 (0)\ttotal: 310ms\tremaining: 25m 50s\n",
      "4999:\tlearn: 0.2581517\ttest: 0.5976437\tbest: 0.5976390 (4998)\ttotal: 16m 24s\tremaining: 0us\n",
      "bestTest = 0.5976389974\n",
      "bestIteration = 4998\n",
      "Shrink model to first 4999 iterations.\n"
     ]
    },
    {
     "name": "stderr",
     "output_type": "stream",
     "text": [
      "[I 2024-04-22 00:50:40,139] Trial 22 finished with value: 0.964458596559796 and parameters: {'depth': 10, 'learning_rate': 0.043244175919371214, 'l2_leaf_reg': 0.9072776176963915, 'bagging_temperature': 0.7903796954553841, 'border_count': 65, 'random_strength': 70.2372030928223, 'min_data_in_leaf': 12}. Best is trial 18 with value: 0.9658258602697232.\n"
     ]
    },
    {
     "name": "stdout",
     "output_type": "stream",
     "text": [
      "0:\tlearn: 2.7363031\ttest: 2.7364911\tbest: 2.7364911 (0)\ttotal: 308ms\tremaining: 25m 38s\n",
      "4999:\tlearn: 0.5751035\ttest: 0.7251503\tbest: 0.7251503 (4999)\ttotal: 12m 44s\tremaining: 0us\n",
      "bestTest = 0.7251502604\n",
      "bestIteration = 4999\n"
     ]
    },
    {
     "name": "stderr",
     "output_type": "stream",
     "text": [
      "[I 2024-04-22 01:03:37,491] Trial 23 finished with value: 0.9534668050269677 and parameters: {'depth': 10, 'learning_rate': 0.011456423291004464, 'l2_leaf_reg': 1.0763141543479195, 'bagging_temperature': 0.7626403698125876, 'border_count': 56, 'random_strength': 93.37601268781602, 'min_data_in_leaf': 12}. Best is trial 18 with value: 0.9658258602697232.\n"
     ]
    },
    {
     "name": "stdout",
     "output_type": "stream",
     "text": [
      "0:\tlearn: 2.3421771\ttest: 2.3432302\tbest: 2.3432302 (0)\ttotal: 310ms\tremaining: 25m 50s\n",
      "4999:\tlearn: 0.1715543\ttest: 0.5947919\tbest: 0.5947919 (4999)\ttotal: 16m 15s\tremaining: 0us\n",
      "bestTest = 0.5947919271\n",
      "bestIteration = 4999\n"
     ]
    },
    {
     "name": "stderr",
     "output_type": "stream",
     "text": [
      "[I 2024-04-22 01:20:08,618] Trial 24 finished with value: 0.963685241820699 and parameters: {'depth': 10, 'learning_rate': 0.05967245514244131, 'l2_leaf_reg': 0.17837179399830513, 'bagging_temperature': 0.5142026083197858, 'border_count': 57, 'random_strength': 66.91397824019069, 'min_data_in_leaf': 18}. Best is trial 18 with value: 0.9658258602697232.\n"
     ]
    },
    {
     "name": "stdout",
     "output_type": "stream",
     "text": [
      "0:\tlearn: 1.7887286\ttest: 1.7908682\tbest: 1.7908682 (0)\ttotal: 214ms\tremaining: 17m 49s\n",
      "4999:\tlearn: 0.1900861\ttest: 0.5883559\tbest: 0.5883559 (4999)\ttotal: 11m 6s\tremaining: 0us\n",
      "bestTest = 0.5883559245\n",
      "bestIteration = 4999\n"
     ]
    },
    {
     "name": "stderr",
     "output_type": "stream",
     "text": [
      "[I 2024-04-22 01:31:28,032] Trial 25 finished with value: 0.9641197812501987 and parameters: {'depth': 9, 'learning_rate': 0.14022370155999214, 'l2_leaf_reg': 2.6197664845546402, 'bagging_temperature': 0.9336511598591178, 'border_count': 99, 'random_strength': 55.17461694249137, 'min_data_in_leaf': 11}. Best is trial 18 with value: 0.9658258602697232.\n"
     ]
    },
    {
     "name": "stdout",
     "output_type": "stream",
     "text": [
      "0:\tlearn: 2.6308552\ttest: 2.6312484\tbest: 2.6312484 (0)\ttotal: 339ms\tremaining: 28m 14s\n",
      "4999:\tlearn: 0.3916877\ttest: 0.6489944\tbest: 0.6489944 (4999)\ttotal: 17m 29s\tremaining: 0us\n",
      "bestTest = 0.648994401\n",
      "bestIteration = 4999\n"
     ]
    },
    {
     "name": "stderr",
     "output_type": "stream",
     "text": [
      "[I 2024-04-22 01:49:12,379] Trial 26 finished with value: 0.9607933241728185 and parameters: {'depth': 10, 'learning_rate': 0.0240657806184746, 'l2_leaf_reg': 0.7838738684741539, 'bagging_temperature': 0.7225033705651422, 'border_count': 135, 'random_strength': 87.72589068440453, 'min_data_in_leaf': 15}. Best is trial 18 with value: 0.9658258602697232.\n"
     ]
    },
    {
     "name": "stdout",
     "output_type": "stream",
     "text": [
      "0:\tlearn: 2.2286341\ttest: 2.2297924\tbest: 2.2297924 (0)\ttotal: 247ms\tremaining: 20m 35s\n",
      "4999:\tlearn: 0.3280967\ttest: 0.6245602\tbest: 0.6245602 (4999)\ttotal: 12m 12s\tremaining: 0us\n",
      "bestTest = 0.6245601563\n",
      "bestIteration = 4999\n"
     ]
    },
    {
     "name": "stderr",
     "output_type": "stream",
     "text": [
      "[I 2024-04-22 02:01:37,216] Trial 27 finished with value: 0.9617738532006062 and parameters: {'depth': 9, 'learning_rate': 0.07598441332964345, 'l2_leaf_reg': 4.309614517248738, 'bagging_temperature': 0.8520306508122387, 'border_count': 175, 'random_strength': 69.4569247755366, 'min_data_in_leaf': 20}. Best is trial 18 with value: 0.9658258602697232.\n"
     ]
    },
    {
     "name": "stdout",
     "output_type": "stream",
     "text": [
      "0:\tlearn: 2.0577484\ttest: 2.0595013\tbest: 2.0595013 (0)\ttotal: 320ms\tremaining: 26m 38s\n",
      "bestTest = 0.6213195312\n",
      "bestIteration = 2769\n",
      "Shrink model to first 2770 iterations.\n"
     ]
    },
    {
     "name": "stderr",
     "output_type": "stream",
     "text": [
      "[I 2024-04-22 02:11:06,223] Trial 28 finished with value: 0.9609047304313721 and parameters: {'depth': 10, 'learning_rate': 0.09697837726172306, 'l2_leaf_reg': 0.034247481496592264, 'bagging_temperature': 0.45638344450096874, 'border_count': 64, 'random_strength': 99.69858566380547, 'min_data_in_leaf': 9}. Best is trial 18 with value: 0.9658258602697232.\n"
     ]
    },
    {
     "name": "stdout",
     "output_type": "stream",
     "text": [
      "0:\tlearn: 1.5124227\ttest: 1.5150178\tbest: 1.5150178 (0)\ttotal: 115ms\tremaining: 9m 34s\n",
      "4999:\tlearn: 0.2635605\ttest: 0.6599921\tbest: 0.6599921 (4999)\ttotal: 6m 6s\tremaining: 0us\n",
      "bestTest = 0.6599920573\n",
      "bestIteration = 4999\n"
     ]
    },
    {
     "name": "stderr",
     "output_type": "stream",
     "text": [
      "[I 2024-04-22 02:17:21,647] Trial 29 finished with value: 0.9558284548062441 and parameters: {'depth': 7, 'learning_rate': 0.19470771828921574, 'l2_leaf_reg': 0.21830605060613703, 'bagging_temperature': 0.6127613151495941, 'border_count': 157, 'random_strength': 51.53601270026301, 'min_data_in_leaf': 11}. Best is trial 18 with value: 0.9658258602697232.\n"
     ]
    },
    {
     "name": "stdout",
     "output_type": "stream",
     "text": [
      "0:\tlearn: 1.7504471\ttest: 1.7524316\tbest: 1.7524316 (0)\ttotal: 139ms\tremaining: 11m 35s\n",
      "4999:\tlearn: 0.2518029\ttest: 0.6177489\tbest: 0.6177383 (4997)\ttotal: 7m 21s\tremaining: 0us\n",
      "bestTest = 0.6177383464\n",
      "bestIteration = 4997\n",
      "Shrink model to first 4998 iterations.\n"
     ]
    },
    {
     "name": "stderr",
     "output_type": "stream",
     "text": [
      "[I 2024-04-22 02:24:52,946] Trial 30 finished with value: 0.9611418748079466 and parameters: {'depth': 8, 'learning_rate': 0.14714063816463285, 'l2_leaf_reg': 1.8035990318159234, 'bagging_temperature': 0.6766090497001312, 'border_count': 101, 'random_strength': 61.132002673910584, 'min_data_in_leaf': 14}. Best is trial 18 with value: 0.9658258602697232.\n"
     ]
    },
    {
     "name": "stdout",
     "output_type": "stream",
     "text": [
      "0:\tlearn: 1.8549281\ttest: 1.8569014\tbest: 1.8569014 (0)\ttotal: 215ms\tremaining: 17m 52s\n",
      "4999:\tlearn: 0.2003018\ttest: 0.5900720\tbest: 0.5900423 (4997)\ttotal: 11m 7s\tremaining: 0us\n",
      "bestTest = 0.5900422526\n",
      "bestIteration = 4997\n",
      "Shrink model to first 4998 iterations.\n"
     ]
    },
    {
     "name": "stderr",
     "output_type": "stream",
     "text": [
      "[I 2024-04-22 02:36:13,060] Trial 31 finished with value: 0.963770068447011 and parameters: {'depth': 9, 'learning_rate': 0.12948012928641062, 'l2_leaf_reg': 2.5135370393299086, 'bagging_temperature': 0.9661730183888366, 'border_count': 105, 'random_strength': 57.84749568753564, 'min_data_in_leaf': 12}. Best is trial 18 with value: 0.9658258602697232.\n"
     ]
    },
    {
     "name": "stdout",
     "output_type": "stream",
     "text": [
      "0:\tlearn: 1.6363424\ttest: 1.6388565\tbest: 1.6388565 (0)\ttotal: 290ms\tremaining: 24m 10s\n",
      "bestTest = 0.570239974\n",
      "bestIteration = 4064\n",
      "Shrink model to first 4065 iterations.\n"
     ]
    },
    {
     "name": "stderr",
     "output_type": "stream",
     "text": [
      "[I 2024-04-22 02:50:56,421] Trial 32 finished with value: 0.9653161028360506 and parameters: {'depth': 10, 'learning_rate': 0.16729569591461654, 'l2_leaf_reg': 5.519268489151185, 'bagging_temperature': 0.8990579971823365, 'border_count': 88, 'random_strength': 56.817866427997316, 'min_data_in_leaf': 11}. Best is trial 18 with value: 0.9658258602697232.\n"
     ]
    },
    {
     "name": "stdout",
     "output_type": "stream",
     "text": [
      "0:\tlearn: 1.6174049\ttest: 1.6199918\tbest: 1.6199918 (0)\ttotal: 325ms\tremaining: 27m 3s\n",
      "bestTest = 0.5675098958\n",
      "bestIteration = 4068\n",
      "Shrink model to first 4069 iterations.\n"
     ]
    },
    {
     "name": "stderr",
     "output_type": "stream",
     "text": [
      "[I 2024-04-22 03:05:22,635] Trial 33 finished with value: 0.9663749572145994 and parameters: {'depth': 10, 'learning_rate': 0.17202049904649439, 'l2_leaf_reg': 7.606154289229104, 'bagging_temperature': 0.8673588076824617, 'border_count': 68, 'random_strength': 61.14863444620232, 'min_data_in_leaf': 14}. Best is trial 33 with value: 0.9663749572145994.\n"
     ]
    },
    {
     "name": "stdout",
     "output_type": "stream",
     "text": [
      "0:\tlearn: 1.5977263\ttest: 1.5997953\tbest: 1.5997953 (0)\ttotal: 83.6ms\tremaining: 6m 57s\n",
      "4999:\tlearn: 0.5099333\ttest: 0.7094854\tbest: 0.7094824 (4998)\ttotal: 4m\tremaining: 0us\n",
      "bestTest = 0.7094824219\n",
      "bestIteration = 4998\n",
      "Shrink model to first 4999 iterations.\n"
     ]
    },
    {
     "name": "stderr",
     "output_type": "stream",
     "text": [
      "[I 2024-04-22 03:09:30,759] Trial 34 finished with value: 0.9524349477428404 and parameters: {'depth': 6, 'learning_rate': 0.18018449758429622, 'l2_leaf_reg': 9.477218402931038, 'bagging_temperature': 0.8591721621417886, 'border_count': 92, 'random_strength': 52.44875442765034, 'min_data_in_leaf': 16}. Best is trial 33 with value: 0.9663749572145994.\n"
     ]
    },
    {
     "name": "stdout",
     "output_type": "stream",
     "text": [
      "0:\tlearn: 1.4456892\ttest: 1.4488216\tbest: 1.4488216 (0)\ttotal: 332ms\tremaining: 27m 40s\n",
      "bestTest = 0.5756539063\n",
      "bestIteration = 3723\n",
      "Shrink model to first 3724 iterations.\n"
     ]
    },
    {
     "name": "stderr",
     "output_type": "stream",
     "text": [
      "[I 2024-04-22 03:24:29,161] Trial 35 finished with value: 0.9651768110074157 and parameters: {'depth': 10, 'learning_rate': 0.20833748698188395, 'l2_leaf_reg': 5.377472468205059, 'bagging_temperature': 0.91981035127124, 'border_count': 128, 'random_strength': 63.075777835420524, 'min_data_in_leaf': 15}. Best is trial 33 with value: 0.9663749572145994.\n"
     ]
    },
    {
     "name": "stdout",
     "output_type": "stream",
     "text": [
      "0:\tlearn: 1.4788945\ttest: 1.4818815\tbest: 1.4818815 (0)\ttotal: 67.7ms\tremaining: 5m 38s\n",
      "4999:\tlearn: 0.6749012\ttest: 0.7747540\tbest: 0.7747540 (4999)\ttotal: 3m 8s\tremaining: 0us\n",
      "bestTest = 0.7747540365\n",
      "bestIteration = 4999\n"
     ]
    },
    {
     "name": "stderr",
     "output_type": "stream",
     "text": [
      "[I 2024-04-22 03:27:45,191] Trial 36 finished with value: 0.9394800802543154 and parameters: {'depth': 4, 'learning_rate': 0.21627241779775672, 'l2_leaf_reg': 6.8166358570705095, 'bagging_temperature': 0.9764155643142192, 'border_count': 130, 'random_strength': 35.33955948363166, 'min_data_in_leaf': 15}. Best is trial 33 with value: 0.9663749572145994.\n"
     ]
    },
    {
     "name": "stdout",
     "output_type": "stream",
     "text": [
      "0:\tlearn: 1.6174578\ttest: 1.6200875\tbest: 1.6200875 (0)\ttotal: 310ms\tremaining: 25m 52s\n",
      "bestTest = 0.5761363932\n",
      "bestIteration = 4083\n",
      "Shrink model to first 4084 iterations.\n"
     ]
    },
    {
     "name": "stderr",
     "output_type": "stream",
     "text": [
      "[I 2024-04-22 03:44:52,985] Trial 37 finished with value: 0.9655730230225981 and parameters: {'depth': 10, 'learning_rate': 0.17105062837714524, 'l2_leaf_reg': 5.770445248824186, 'bagging_temperature': 0.907832755354328, 'border_count': 174, 'random_strength': 60.219846868632494, 'min_data_in_leaf': 17}. Best is trial 33 with value: 0.9663749572145994.\n"
     ]
    },
    {
     "name": "stdout",
     "output_type": "stream",
     "text": [
      "0:\tlearn: 1.6442775\ttest: 1.6468396\tbest: 1.6468396 (0)\ttotal: 259ms\tremaining: 21m 34s\n",
      "4999:\tlearn: 0.1946618\ttest: 0.5888861\tbest: 0.5888787 (4997)\ttotal: 13m 21s\tremaining: 0us\n",
      "bestTest = 0.5888787109\n",
      "bestIteration = 4997\n",
      "Shrink model to first 4998 iterations.\n"
     ]
    },
    {
     "name": "stderr",
     "output_type": "stream",
     "text": [
      "[I 2024-04-22 03:58:27,076] Trial 38 finished with value: 0.9641045412588201 and parameters: {'depth': 9, 'learning_rate': 0.16675840964908029, 'l2_leaf_reg': 4.9193893138446905, 'bagging_temperature': 0.8701950569735756, 'border_count': 176, 'random_strength': 29.17881757032693, 'min_data_in_leaf': 17}. Best is trial 33 with value: 0.9663749572145994.\n"
     ]
    },
    {
     "name": "stdout",
     "output_type": "stream",
     "text": [
      "0:\tlearn: 1.2735668\ttest: 1.2776404\tbest: 1.2776404 (0)\ttotal: 355ms\tremaining: 29m 33s\n",
      "bestTest = 0.5878391927\n",
      "bestIteration = 2601\n",
      "Shrink model to first 2602 iterations.\n"
     ]
    },
    {
     "name": "stderr",
     "output_type": "stream",
     "text": [
      "[I 2024-04-22 04:10:19,781] Trial 39 finished with value: 0.9638356220773353 and parameters: {'depth': 10, 'learning_rate': 0.2617675879399603, 'l2_leaf_reg': 3.9112810480603915, 'bagging_temperature': 0.8915867007503682, 'border_count': 194, 'random_strength': 58.862655482076725, 'min_data_in_leaf': 17}. Best is trial 33 with value: 0.9663749572145994.\n"
     ]
    }
   ],
   "source": [
    "def objective(trial):\n",
    "    params = {\n",
    "        'depth': trial.suggest_int('depth', 4, 10),\n",
    "        'learning_rate': trial.suggest_float('learning_rate', 0.01, 0.5),\n",
    "        'l2_leaf_reg': trial.suggest_float('l2_leaf_reg', 1e-3, 10.0, log=True),\n",
    "        'bagging_temperature': trial.suggest_float('bagging_temperature', 0.0, 1.0),\n",
    "        'border_count': trial.suggest_int('border_count', 32, 255),\n",
    "        'random_strength': trial.suggest_float('random_strength', 0.0, 100.0),\n",
    "        'min_data_in_leaf': trial.suggest_int('min_data_in_leaf', 1, 20),\n",
    "    }\n",
    "\n",
    "    model = CatBoostClassifier(iterations=5_000,\n",
    "                               loss_function='MultiClass',\n",
    "                               task_type='GPU',\n",
    "                               **params)\n",
    "\n",
    "    model.fit(x_train,\n",
    "              y_train,\n",
    "              cat_features=cat_features,\n",
    "              eval_set=(x_val, y_val),\n",
    "              verbose=5000,\n",
    "              early_stopping_rounds=100)\n",
    "\n",
    "    y_pred_proba = model.predict_proba(x_val)\n",
    "    score = weighted_roc_auc(y_val, y_pred_proba, model.classes_, weights_dict)\n",
    "\n",
    "    return score\n",
    "\n",
    "study = optuna.create_study(direction='maximize')\n",
    "study.optimize(objective, n_trials=40) "
   ]
  },
  {
   "cell_type": "code",
   "execution_count": 6,
   "id": "ce29908b",
   "metadata": {
    "execution": {
     "iopub.execute_input": "2024-04-22T04:10:19.816842Z",
     "iopub.status.busy": "2024-04-22T04:10:19.816532Z",
     "iopub.status.idle": "2024-04-22T04:10:19.830754Z",
     "shell.execute_reply": "2024-04-22T04:10:19.829832Z"
    },
    "papermill": {
     "duration": 0.031334,
     "end_time": "2024-04-22T04:10:19.832767",
     "exception": false,
     "start_time": "2024-04-22T04:10:19.801433",
     "status": "completed"
    },
    "tags": []
   },
   "outputs": [
    {
     "name": "stdout",
     "output_type": "stream",
     "text": [
      "Количество завершенных испытаний: 40\n",
      "Лучшее значение: 0.9663749572145994\n",
      "\n",
      "Гиперпараметры:\n",
      "   depth: 10\n",
      "   learning_rate: 0.17202049904649439\n",
      "   l2_leaf_reg: 7.606154289229104\n",
      "   bagging_temperature: 0.8673588076824617\n",
      "   border_count: 68\n",
      "   random_strength: 61.14863444620232\n",
      "   min_data_in_leaf: 14\n"
     ]
    }
   ],
   "source": [
    "print(\"Количество завершенных испытаний: {}\".format(len(study.trials)))\n",
    "\n",
    "trial = study.best_trial\n",
    "print(f\"Лучшее значение: {trial.value}\\n\")\n",
    "\n",
    "print(\"Гиперпараметры:\")\n",
    "for key, value in trial.params.items():\n",
    "    print(\"   {}: {}\".format(key, value))"
   ]
  },
  {
   "cell_type": "markdown",
   "id": "7f711d3a",
   "metadata": {
    "papermill": {
     "duration": 0.013835,
     "end_time": "2024-04-22T04:10:19.860643",
     "exception": false,
     "start_time": "2024-04-22T04:10:19.846808",
     "status": "completed"
    },
    "tags": []
   },
   "source": [
    "## <b>4 <span style='color:#4682B4'>|</span> Обучение модели </b>"
   ]
  },
  {
   "cell_type": "code",
   "execution_count": 7,
   "id": "2df700c8",
   "metadata": {
    "execution": {
     "iopub.execute_input": "2024-04-22T04:10:19.890056Z",
     "iopub.status.busy": "2024-04-22T04:10:19.889526Z",
     "iopub.status.idle": "2024-04-22T04:25:49.280277Z",
     "shell.execute_reply": "2024-04-22T04:25:49.279288Z"
    },
    "papermill": {
     "duration": 929.40774,
     "end_time": "2024-04-22T04:25:49.282398",
     "exception": false,
     "start_time": "2024-04-22T04:10:19.874658",
     "status": "completed"
    },
    "tags": []
   },
   "outputs": [
    {
     "name": "stdout",
     "output_type": "stream",
     "text": [
      "0:\tlearn: 1.6174049\ttest: 1.6199918\tbest: 1.6199918 (0)\ttotal: 303ms\tremaining: 50m 33s\n",
      "1000:\tlearn: 0.4475923\ttest: 0.6746224\tbest: 0.6746224 (1000)\ttotal: 3m 5s\tremaining: 27m 48s\n",
      "2000:\tlearn: 0.2888432\ttest: 0.6080876\tbest: 0.6080876 (2000)\ttotal: 6m 32s\tremaining: 26m 9s\n",
      "3000:\tlearn: 0.2125650\ttest: 0.5809010\tbest: 0.5809010 (3000)\ttotal: 10m 4s\tremaining: 23m 30s\n",
      "4000:\tlearn: 0.1714029\ttest: 0.5723939\tbest: 0.5723563 (3997)\ttotal: 13m 36s\tremaining: 20m 24s\n",
      "bestTest = 0.5717523437\n",
      "bestIteration = 4392\n",
      "Shrink model to first 4393 iterations.\n"
     ]
    },
    {
     "data": {
      "text/plain": [
       "<catboost.core.CatBoostClassifier at 0x7bbaca295840>"
      ]
     },
     "execution_count": 7,
     "metadata": {},
     "output_type": "execute_result"
    }
   ],
   "source": [
    "best_params = study.best_params  \n",
    "\n",
    "model = CatBoostClassifier(iterations=10_000,\n",
    "                           loss_function='MultiClass',\n",
    "                           task_type='GPU',\n",
    "                           **best_params)\n",
    "\n",
    "\n",
    "model.fit(x_train,\n",
    "          y_train,\n",
    "          cat_features=cat_features,\n",
    "          eval_set=(x_val, y_val),\n",
    "          verbose=1000,\n",
    "          early_stopping_rounds=100)"
   ]
  },
  {
   "cell_type": "code",
   "execution_count": 8,
   "id": "3830507e",
   "metadata": {
    "execution": {
     "iopub.execute_input": "2024-04-22T04:25:49.313596Z",
     "iopub.status.busy": "2024-04-22T04:25:49.313295Z",
     "iopub.status.idle": "2024-04-22T04:25:56.203336Z",
     "shell.execute_reply": "2024-04-22T04:25:56.202263Z"
    },
    "papermill": {
     "duration": 6.908058,
     "end_time": "2024-04-22T04:25:56.205577",
     "exception": false,
     "start_time": "2024-04-22T04:25:49.297519",
     "status": "completed"
    },
    "tags": []
   },
   "outputs": [
    {
     "data": {
      "text/plain": [
       "0.9662047594042886"
      ]
     },
     "execution_count": 8,
     "metadata": {},
     "output_type": "execute_result"
    }
   ],
   "source": [
    "y_pred_proba = model.predict_proba(x_val)\n",
    "weighted_roc_auc(y_val, y_pred_proba, model.classes_, weights_dict)"
   ]
  },
  {
   "cell_type": "markdown",
   "id": "560ca15f",
   "metadata": {
    "papermill": {
     "duration": 0.014568,
     "end_time": "2024-04-22T04:25:56.236083",
     "exception": false,
     "start_time": "2024-04-22T04:25:56.221515",
     "status": "completed"
    },
    "tags": []
   },
   "source": [
    "## <b>5 <span style='color:#4682B4'>|</span> Submission </b>"
   ]
  },
  {
   "cell_type": "code",
   "execution_count": 9,
   "id": "32b34611",
   "metadata": {
    "execution": {
     "iopub.execute_input": "2024-04-22T04:25:56.267586Z",
     "iopub.status.busy": "2024-04-22T04:25:56.267299Z",
     "iopub.status.idle": "2024-04-22T04:26:01.457933Z",
     "shell.execute_reply": "2024-04-22T04:26:01.456939Z"
    },
    "papermill": {
     "duration": 5.209555,
     "end_time": "2024-04-22T04:26:01.460945",
     "exception": false,
     "start_time": "2024-04-22T04:25:56.251390",
     "status": "completed"
    },
    "tags": []
   },
   "outputs": [
    {
     "data": {
      "text/html": [
       "<div>\n",
       "<style scoped>\n",
       "    .dataframe tbody tr th:only-of-type {\n",
       "        vertical-align: middle;\n",
       "    }\n",
       "\n",
       "    .dataframe tbody tr th {\n",
       "        vertical-align: top;\n",
       "    }\n",
       "\n",
       "    .dataframe thead th {\n",
       "        text-align: right;\n",
       "    }\n",
       "</style>\n",
       "<table border=\"1\" class=\"dataframe\">\n",
       "  <thead>\n",
       "    <tr style=\"text-align: right;\">\n",
       "      <th></th>\n",
       "      <th>{other}</th>\n",
       "      <th>{}</th>\n",
       "      <th>{α, β}</th>\n",
       "      <th>{α, γ}</th>\n",
       "      <th>{α, δ}</th>\n",
       "      <th>{α, ε, η}</th>\n",
       "      <th>{α, ε, θ}</th>\n",
       "      <th>{α, ε, ψ}</th>\n",
       "      <th>{α, ε}</th>\n",
       "      <th>{α, η}</th>\n",
       "      <th>{α, θ}</th>\n",
       "      <th>{α, λ}</th>\n",
       "      <th>{α, μ}</th>\n",
       "      <th>{α, π}</th>\n",
       "      <th>{α, ψ}</th>\n",
       "      <th>{α}</th>\n",
       "      <th>{λ}</th>\n",
       "    </tr>\n",
       "  </thead>\n",
       "  <tbody>\n",
       "    <tr>\n",
       "      <th>0</th>\n",
       "      <td>0.000215</td>\n",
       "      <td>0.001067</td>\n",
       "      <td>9.286726e-04</td>\n",
       "      <td>0.004192</td>\n",
       "      <td>1.342531e-03</td>\n",
       "      <td>1.180768e-06</td>\n",
       "      <td>2.264495e-05</td>\n",
       "      <td>4.163266e-06</td>\n",
       "      <td>0.000424</td>\n",
       "      <td>0.000283</td>\n",
       "      <td>3.308486e-04</td>\n",
       "      <td>6.741641e-06</td>\n",
       "      <td>0.000011</td>\n",
       "      <td>2.068987e-07</td>\n",
       "      <td>0.000098</td>\n",
       "      <td>0.991073</td>\n",
       "      <td>2.028584e-07</td>\n",
       "    </tr>\n",
       "    <tr>\n",
       "      <th>1</th>\n",
       "      <td>0.000028</td>\n",
       "      <td>0.412001</td>\n",
       "      <td>7.896603e-07</td>\n",
       "      <td>0.000011</td>\n",
       "      <td>1.030863e-06</td>\n",
       "      <td>1.142840e-07</td>\n",
       "      <td>8.608535e-08</td>\n",
       "      <td>3.005169e-08</td>\n",
       "      <td>0.000004</td>\n",
       "      <td>0.000182</td>\n",
       "      <td>6.242754e-07</td>\n",
       "      <td>6.902805e-07</td>\n",
       "      <td>0.000002</td>\n",
       "      <td>4.016607e-09</td>\n",
       "      <td>0.000021</td>\n",
       "      <td>0.587745</td>\n",
       "      <td>1.743911e-06</td>\n",
       "    </tr>\n",
       "    <tr>\n",
       "      <th>2</th>\n",
       "      <td>0.001142</td>\n",
       "      <td>0.000687</td>\n",
       "      <td>3.131240e-04</td>\n",
       "      <td>0.005420</td>\n",
       "      <td>4.973045e-04</td>\n",
       "      <td>4.888271e-06</td>\n",
       "      <td>7.468658e-06</td>\n",
       "      <td>1.098751e-05</td>\n",
       "      <td>0.000136</td>\n",
       "      <td>0.000218</td>\n",
       "      <td>1.414612e-04</td>\n",
       "      <td>5.835006e-05</td>\n",
       "      <td>0.000008</td>\n",
       "      <td>3.026572e-07</td>\n",
       "      <td>0.000301</td>\n",
       "      <td>0.991054</td>\n",
       "      <td>4.667873e-07</td>\n",
       "    </tr>\n",
       "    <tr>\n",
       "      <th>3</th>\n",
       "      <td>0.011543</td>\n",
       "      <td>0.435397</td>\n",
       "      <td>1.997292e-05</td>\n",
       "      <td>0.000297</td>\n",
       "      <td>5.612789e-07</td>\n",
       "      <td>6.373468e-05</td>\n",
       "      <td>5.668058e-06</td>\n",
       "      <td>4.851931e-07</td>\n",
       "      <td>0.000005</td>\n",
       "      <td>0.226342</td>\n",
       "      <td>1.223628e-03</td>\n",
       "      <td>3.757970e-07</td>\n",
       "      <td>0.000148</td>\n",
       "      <td>7.759173e-08</td>\n",
       "      <td>0.000031</td>\n",
       "      <td>0.324922</td>\n",
       "      <td>2.805962e-07</td>\n",
       "    </tr>\n",
       "    <tr>\n",
       "      <th>4</th>\n",
       "      <td>0.003851</td>\n",
       "      <td>0.010537</td>\n",
       "      <td>5.868169e-03</td>\n",
       "      <td>0.008129</td>\n",
       "      <td>6.173457e-05</td>\n",
       "      <td>3.011136e-06</td>\n",
       "      <td>2.713406e-06</td>\n",
       "      <td>1.136141e-06</td>\n",
       "      <td>0.000122</td>\n",
       "      <td>0.043845</td>\n",
       "      <td>1.337683e-03</td>\n",
       "      <td>3.104938e-06</td>\n",
       "      <td>0.000118</td>\n",
       "      <td>5.638335e-07</td>\n",
       "      <td>0.000002</td>\n",
       "      <td>0.926116</td>\n",
       "      <td>6.051511e-07</td>\n",
       "    </tr>\n",
       "  </tbody>\n",
       "</table>\n",
       "</div>"
      ],
      "text/plain": [
       "    {other}        {}        {α, β}    {α, γ}        {α, δ}     {α, ε, η}  \\\n",
       "0  0.000215  0.001067  9.286726e-04  0.004192  1.342531e-03  1.180768e-06   \n",
       "1  0.000028  0.412001  7.896603e-07  0.000011  1.030863e-06  1.142840e-07   \n",
       "2  0.001142  0.000687  3.131240e-04  0.005420  4.973045e-04  4.888271e-06   \n",
       "3  0.011543  0.435397  1.997292e-05  0.000297  5.612789e-07  6.373468e-05   \n",
       "4  0.003851  0.010537  5.868169e-03  0.008129  6.173457e-05  3.011136e-06   \n",
       "\n",
       "      {α, ε, θ}     {α, ε, ψ}    {α, ε}    {α, η}        {α, θ}        {α, λ}  \\\n",
       "0  2.264495e-05  4.163266e-06  0.000424  0.000283  3.308486e-04  6.741641e-06   \n",
       "1  8.608535e-08  3.005169e-08  0.000004  0.000182  6.242754e-07  6.902805e-07   \n",
       "2  7.468658e-06  1.098751e-05  0.000136  0.000218  1.414612e-04  5.835006e-05   \n",
       "3  5.668058e-06  4.851931e-07  0.000005  0.226342  1.223628e-03  3.757970e-07   \n",
       "4  2.713406e-06  1.136141e-06  0.000122  0.043845  1.337683e-03  3.104938e-06   \n",
       "\n",
       "     {α, μ}        {α, π}    {α, ψ}       {α}           {λ}  \n",
       "0  0.000011  2.068987e-07  0.000098  0.991073  2.028584e-07  \n",
       "1  0.000002  4.016607e-09  0.000021  0.587745  1.743911e-06  \n",
       "2  0.000008  3.026572e-07  0.000301  0.991054  4.667873e-07  \n",
       "3  0.000148  7.759173e-08  0.000031  0.324922  2.805962e-07  \n",
       "4  0.000118  5.638335e-07  0.000002  0.926116  6.051511e-07  "
      ]
     },
     "execution_count": 9,
     "metadata": {},
     "output_type": "execute_result"
    }
   ],
   "source": [
    "sample_submission_df = pd.read_csv('/kaggle/input/alfa-x-finu-hack/sample_submission.csv')\n",
    "\n",
    "last_m_test_df = test_df[test_df[\"date\"] == \"month_6\"]\n",
    "last_m_test_df = last_m_test_df.drop(['id', 'date'], axis=1)\n",
    "\n",
    "test_pred_proba = model.predict_proba(last_m_test_df)\n",
    "test_pred_proba_df = pd.DataFrame(test_pred_proba, columns=model.classes_)\n",
    "test_pred_proba_df.head()"
   ]
  },
  {
   "cell_type": "code",
   "execution_count": 10,
   "id": "5b5b5aee",
   "metadata": {
    "execution": {
     "iopub.execute_input": "2024-04-22T04:26:01.498501Z",
     "iopub.status.busy": "2024-04-22T04:26:01.498203Z",
     "iopub.status.idle": "2024-04-22T04:26:05.120519Z",
     "shell.execute_reply": "2024-04-22T04:26:05.119743Z"
    },
    "papermill": {
     "duration": 3.642287,
     "end_time": "2024-04-22T04:26:05.122708",
     "exception": false,
     "start_time": "2024-04-22T04:26:01.480421",
     "status": "completed"
    },
    "tags": []
   },
   "outputs": [],
   "source": [
    "sample_submission_df[model.classes_] = test_pred_proba_df\n",
    "sample_submission_df.to_csv(\"sub.csv\", index=False)"
   ]
  }
 ],
 "metadata": {
  "colab": {
   "provenance": []
  },
  "kaggle": {
   "accelerator": "nvidiaTeslaT4",
   "dataSources": [
    {
     "datasetId": 4764374,
     "sourceId": 8073798,
     "sourceType": "datasetVersion"
    }
   ],
   "dockerImageVersionId": 30683,
   "isGpuEnabled": true,
   "isInternetEnabled": true,
   "language": "python",
   "sourceType": "notebook"
  },
  "kernelspec": {
   "display_name": "Python 3",
   "language": "python",
   "name": "python3"
  },
  "language_info": {
   "codemirror_mode": {
    "name": "ipython",
    "version": 3
   },
   "file_extension": ".py",
   "mimetype": "text/x-python",
   "name": "python",
   "nbconvert_exporter": "python",
   "pygments_lexer": "ipython3",
   "version": "3.10.13"
  },
  "papermill": {
   "default_parameters": {},
   "duration": 22416.921113,
   "end_time": "2024-04-22T04:26:06.102041",
   "environment_variables": {},
   "exception": null,
   "input_path": "__notebook__.ipynb",
   "output_path": "__notebook__.ipynb",
   "parameters": {},
   "start_time": "2024-04-21T22:12:29.180928",
   "version": "2.5.0"
  }
 },
 "nbformat": 4,
 "nbformat_minor": 5
}
